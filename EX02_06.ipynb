{
  "nbformat": 4,
  "nbformat_minor": 0,
  "metadata": {
    "colab": {
      "provenance": [],
      "authorship_tag": "ABX9TyNmH/JztqvTBRUpln9L+WWf",
      "include_colab_link": true
    },
    "kernelspec": {
      "name": "python3",
      "display_name": "Python 3"
    },
    "language_info": {
      "name": "python"
    }
  },
  "cells": [
    {
      "cell_type": "markdown",
      "metadata": {
        "id": "view-in-github",
        "colab_type": "text"
      },
      "source": [
        "<a href=\"https://colab.research.google.com/github/yy20021217/123456/blob/main/EX02_06.ipynb\" target=\"_parent\"><img src=\"https://colab.research.google.com/assets/colab-badge.svg\" alt=\"Open In Colab\"/></a>"
      ]
    },
    {
      "cell_type": "code",
      "source": [
        "import requests\n",
        "from bs4 import BeautifulSoup\n",
        "\n",
        "url = 'https://www.atmovies.com.tw/movie/next/'\n",
        "html = requests.get(url)\n",
        "html.encoding = 'utf-8'\n",
        "soup = BeautifulSoup(html.text, 'lxml')\n",
        "soup.title"
      ],
      "metadata": {
        "colab": {
          "base_uri": "https://localhost:8080/"
        },
        "id": "KQsOoFjZRBmh",
        "outputId": "7dc9d88e-b14a-433a-f604-c74d3171f390"
      },
      "execution_count": 15,
      "outputs": [
        {
          "output_type": "execute_result",
          "data": {
            "text/plain": [
              "<title>開眼電影網首頁--近期上映--</title>"
            ]
          },
          "metadata": {},
          "execution_count": 15
        }
      ]
    },
    {
      "cell_type": "code",
      "source": [],
      "metadata": {
        "id": "ILWHi3R6Tuph"
      },
      "execution_count": null,
      "outputs": []
    },
    {
      "cell_type": "code",
      "source": [
        "import os\n",
        "import csv\n",
        "\n",
        "if not os.path.exists('/content/movies'):\n",
        "  os.mkdir('/content/movies')\n",
        "\n",
        "movies = [['電影','上映日期']]\n",
        "\n",
        "for mv in soup.find('ul',class_='filmListAllX').find_all('li'):\n",
        "  ttl = mv.img['alt']\n",
        "  src = mv.img['src'].strip()\n",
        "  dat = mv.find('div',class_=\"runtime\").text\n",
        "  dat = dat[5:15]\n",
        "  movies.append([ttl,dat])\n",
        "  print(ttl,dat,src)\n",
        "  !wget $src -O /content/movies/{ttl}.jpg{src}\n",
        "  #response = requests.get(src)\n",
        "  #with open(f'/content/movies/{ttl}.jpg','wb')as f:\n",
        "    #f.write(response.content)\n",
        "\n",
        "with open('/content/movies.csv','w',newline='') as f:\n",
        "  writer = csv.writer(f)\n",
        "  writer.writerows(movies)\n"
      ],
      "metadata": {
        "colab": {
          "base_uri": "https://localhost:8080/"
        },
        "id": "twKKQ6u7TRaZ",
        "outputId": "9fa9b193-f228-4d7c-c880-f4b6926f1725"
      },
      "execution_count": 16,
      "outputs": [
        {
          "output_type": "stream",
          "name": "stdout",
          "text": [
            "會計師2 2025/04/24 http://www.atmovies.com.tw/photo101/faen47068946/pl_faen47068946_0002.jpg\n",
            "/content/movies/會計師2.jpghttp://www.atmovies.com.tw/photo101/faen47068946/pl_faen47068946_0002.jpg: No such file or directory\n",
            "直到黎明 2025/04/25 http://www.atmovies.com.tw/photo101/fuen30955489/pl_fuen30955489_0002.jpg\n",
            "/content/movies/直到黎明.jpghttp://www.atmovies.com.tw/photo101/fuen30955489/pl_fuen30955489_0002.jpg: No such file or directory\n",
            "黑袋行動 2025/04/30 http://www.atmovies.com.tw/photo101/fben30988739/pl_fben30988739_0001.jpg\n",
            "/content/movies/黑袋行動.jpghttp://www.atmovies.com.tw/photo101/fben30988739/pl_fben30988739_0001.jpg: No such file or directory\n",
            "雷霆特攻隊* 2025/04/30 http://www.atmovies.com.tw/photo101/ften20969586/pl_ften20969586_0005.jpg\n",
            "/content/movies/雷霆特攻隊*.jpghttp://www.atmovies.com.tw/photo101/ften20969586/pl_ften20969586_0005.jpg: No such file or directory\n",
            "怪獸8號：Mission Recon 2025/05/01 http://www.atmovies.com.tw/photo101/fkjp35636950/pl_fkjp35636950_0002.jpg\n",
            "--2025-04-15 07:16:06--  http://www.atmovies.com.tw/photo101/fkjp35636950/pl_fkjp35636950_0002.jpg\n",
            "Resolving www.atmovies.com.tw (www.atmovies.com.tw)... 61.61.96.231\n",
            "Connecting to www.atmovies.com.tw (www.atmovies.com.tw)|61.61.96.231|:80... connected.\n",
            "HTTP request sent, awaiting response... 200 OK\n",
            "Length: 79320 (77K) [image/jpeg]\n",
            "Saving to: ‘/content/movies/怪獸8號：Mission’\n",
            "\n",
            "/content/movies/怪  100%[===================>]  77.46K  96.0KB/s    in 0.8s    \n",
            "\n",
            "2025-04-15 07:16:08 (96.0 KB/s) - ‘/content/movies/怪獸8號：Mission’ saved [79320/79320]\n",
            "\n",
            "Recon.jpghttp://www.atmovies.com.tw/photo101/fkjp35636950/pl_fkjp35636950_0002.jpg: Scheme missing.\n",
            "FINISHED --2025-04-15 07:16:08--\n",
            "Total wall clock time: 1.5s\n",
            "Downloaded: 1 files, 77K in 0.8s (96.0 KB/s)\n",
            "不可能的任務：最終清算 2025/05/17 http://www.atmovies.com.tw/photo101/fmen62168299/pl_fmen62168299_0003.jpg\n",
            "/content/movies/不可能的任務：最終清算.jpghttp://www.atmovies.com.tw/photo101/fmen62168299/pl_fmen62168299_0003.jpg: No such file or directory\n",
            "馴龍高手 2025/06/11 http://www.atmovies.com.tw/photo101/fhen26743210/pl_fhen26743210_0001.jpg\n",
            "/content/movies/馴龍高手.jpghttp://www.atmovies.com.tw/photo101/fhen26743210/pl_fhen26743210_0001.jpg: No such file or directory\n",
            "28年毀滅倒數 2025/06/18 http://www.atmovies.com.tw/photo101/fyen10548174/pl_fyen10548174_0001.jpg\n",
            "/content/movies/28年毀滅倒數.jpghttp://www.atmovies.com.tw/photo101/fyen10548174/pl_fyen10548174_0001.jpg: No such file or directory\n",
            "名偵探柯南：獨眼的殘像 2025/06/25 http://www.atmovies.com.tw/photo101/fdjp35891502/pl_fdjp35891502_0001.jpg\n",
            "/content/movies/名偵探柯南：獨眼的殘像.jpghttp://www.atmovies.com.tw/photo101/fdjp35891502/pl_fdjp35891502_0001.jpg: No such file or directory\n",
            "F1® 2025/06/26 http://www.atmovies.com.tw/photo101/ffen16311594/pl_ffen16311594_0001.jpg\n",
            "/content/movies/F1®.jpghttp://www.atmovies.com.tw/photo101/ffen16311594/pl_ffen16311594_0001.jpg: No such file or directory\n",
            "窒友梅根 2.0 2025/06/27 http://www.atmovies.com.tw/photo101/fmen26342662/pl_fmen26342662_0002.jpg\n",
            "--2025-04-15 07:16:08--  http://www.atmovies.com.tw/photo101/fmen26342662/pl_fmen26342662_0002.jpg\n",
            "Resolving www.atmovies.com.tw (www.atmovies.com.tw)... 61.61.96.231\n",
            "Connecting to www.atmovies.com.tw (www.atmovies.com.tw)|61.61.96.231|:80... connected.\n",
            "HTTP request sent, awaiting response... 200 OK\n",
            "Length: 82561 (81K) [image/jpeg]\n",
            "Saving to: ‘/content/movies/窒友梅根’\n",
            "\n",
            "/content/movies/窒  100%[===================>]  80.63K   100KB/s    in 0.8s    \n",
            "\n",
            "2025-04-15 07:16:10 (100 KB/s) - ‘/content/movies/窒友梅根’ saved [82561/82561]\n",
            "\n",
            "2.0.jpghttp://www.atmovies.com.tw/photo101/fmen26342662/pl_fmen26342662_0002.jpg: Scheme missing.\n",
            "FINISHED --2025-04-15 07:16:10--\n",
            "Total wall clock time: 1.3s\n",
            "Downloaded: 1 files, 81K in 0.8s (100 KB/s)\n",
            "侏羅紀世界：重生 2025/07/04 http://www.atmovies.com.tw/photo101/fjen31036941/pl_fjen31036941_0001.jpg\n",
            "/content/movies/侏羅紀世界：重生.jpghttp://www.atmovies.com.tw/photo101/fjen31036941/pl_fjen31036941_0001.jpg: No such file or directory\n",
            "超人 2025/07/09 http://www.atmovies.com.tw/photo101/fsen45950044/pl_fsen45950044_0001.jpg\n",
            "/content/movies/超人.jpghttp://www.atmovies.com.tw/photo101/fsen45950044/pl_fsen45950044_0001.jpg: No such file or directory\n",
            "驚奇4超人：第一步 2025/07/23 http://www.atmovies.com.tw/photo101/ffen10676052/pl_ffen10676052_0007.jpg\n",
            "/content/movies/驚奇4超人：第一步.jpghttp://www.atmovies.com.tw/photo101/ffen10676052/pl_ffen10676052_0007.jpg: No such file or directory\n",
            "壞蛋聯盟2 2025/08/01 http://www.atmovies.com.tw/photo101/fben30017619/pl_fben30017619_0001.jpg\n",
            "/content/movies/壞蛋聯盟2.jpghttp://www.atmovies.com.tw/photo101/fben30017619/pl_fben30017619_0001.jpg: No such file or directory\n",
            "劇場版「鬼滅之刃」無限城篇 2025/08/08 http://www.atmovies.com.tw/photo101/fdjp32820897/pl_fdjp32820897_0001.jpg\n",
            "/content/movies/劇場版「鬼滅之刃」無限城篇.jpghttp://www.atmovies.com.tw/photo101/fdjp32820897/pl_fdjp32820897_0001.jpg: No such file or directory\n",
            "天作之合 2025/08/29 http://www.atmovies.com.tw/photo101/fmen30253473/pl_fmen30253473_0001.jpg\n",
            "/content/movies/天作之合.jpghttp://www.atmovies.com.tw/photo101/fmen30253473/pl_fmen30253473_0001.jpg: No such file or directory\n",
            "劇場版『鏈鋸人 蕾潔篇』 2025/09/24 http://www.atmovies.com.tw/photo101/fcjp30472557/pl_fcjp30472557_0001.jpg\n",
            "--2025-04-15 07:16:10--  http://www.atmovies.com.tw/photo101/fcjp30472557/pl_fcjp30472557_0001.jpg\n",
            "Resolving www.atmovies.com.tw (www.atmovies.com.tw)... 61.61.96.231\n",
            "Connecting to www.atmovies.com.tw (www.atmovies.com.tw)|61.61.96.231|:80... connected.\n",
            "HTTP request sent, awaiting response... 200 OK\n",
            "Length: 79853 (78K) [image/jpeg]\n",
            "Saving to: ‘/content/movies/劇場版『鏈鋸人’\n",
            "\n",
            "/content/movies/劇  100%[===================>]  77.98K  96.8KB/s    in 0.8s    \n",
            "\n",
            "2025-04-15 07:16:12 (96.8 KB/s) - ‘/content/movies/劇場版『鏈鋸人’ saved [79853/79853]\n",
            "\n",
            "蕾潔篇』.jpghttp://www.atmovies.com.tw/photo101/fcjp30472557/pl_fcjp30472557_0001.jpg: Scheme missing.\n",
            "FINISHED --2025-04-15 07:16:12--\n",
            "Total wall clock time: 1.3s\n",
            "Downloaded: 1 files, 78K in 0.8s (96.8 KB/s)\n",
            "動物方城市2 2025/11/26 http://www.atmovies.com.tw/photo101/fzen31187839/pl_fzen31187839_0001.jpg\n",
            "/content/movies/動物方城市2.jpghttp://www.atmovies.com.tw/photo101/fzen31187839/pl_fzen31187839_0001.jpg: No such file or directory\n",
            "阿凡達：火與灰燼 2025/12/18 http://www.atmovies.com.tw/photo101/faen71757678/pl_faen71757678_0001.jpg\n",
            "/content/movies/阿凡達：火與灰燼.jpghttp://www.atmovies.com.tw/photo101/faen71757678/pl_faen71757678_0001.jpg: No such file or directory\n",
            "復仇者聯盟5 2026/05/01 http://www.atmovies.com.tw/photo101/faen21357150/pl_faen21357150_0001.jpg\n",
            "/content/movies/復仇者聯盟5.jpghttp://www.atmovies.com.tw/photo101/faen21357150/pl_faen21357150_0001.jpg: No such file or directory\n",
            "玩具總動員5 2026/06/19 http://www.atmovies.com.tw/photo101/ften29355505/pl_ften29355505_0001.jpg\n",
            "/content/movies/玩具總動員5.jpghttp://www.atmovies.com.tw/photo101/ften29355505/pl_ften29355505_0001.jpg: No such file or directory\n"
          ]
        }
      ]
    }
  ]
}