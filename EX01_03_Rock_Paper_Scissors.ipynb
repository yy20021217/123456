{
  "nbformat": 4,
  "nbformat_minor": 0,
  "metadata": {
    "colab": {
      "provenance": [],
      "authorship_tag": "ABX9TyPuT1B2XtTeHRcrUDcdwwjp",
      "include_colab_link": true
    },
    "kernelspec": {
      "name": "python3",
      "display_name": "Python 3"
    },
    "language_info": {
      "name": "python"
    }
  },
  "cells": [
    {
      "cell_type": "markdown",
      "metadata": {
        "id": "view-in-github",
        "colab_type": "text"
      },
      "source": [
        "<a href=\"https://colab.research.google.com/github/yy20021217/123456/blob/main/EX01_03_Rock_Paper_Scissors.ipynb\" target=\"_parent\"><img src=\"https://colab.research.google.com/assets/colab-badge.svg\" alt=\"Open In Colab\"/></a>"
      ]
    },
    {
      "cell_type": "code",
      "execution_count": 1,
      "metadata": {
        "colab": {
          "base_uri": "https://localhost:8080/"
        },
        "id": "gKzmh57R-qY7",
        "outputId": "55dd782c-1bdd-494c-bf4b-e25a3f4c9934"
      },
      "outputs": [
        {
          "output_type": "stream",
          "name": "stdout",
          "text": [
            "2\n",
            "computer: 0\n",
            "computer wins\n"
          ]
        }
      ],
      "source": [
        "import random\n",
        "ply = int(input())\n",
        "cmp = random.choice( [0,2,5])\n",
        "print('computer:', cmp)\n",
        "if ply == cmp:\n",
        "  print('draw')\n",
        "elif(ply == 0 and cmp == 2) or (ply == 2 and cmp == 5) or (ply == 5 and cmp == 0):\n",
        "  print('player wins')\n",
        "else:\n",
        "  print('computer wins')"
      ]
    }
  ]
}