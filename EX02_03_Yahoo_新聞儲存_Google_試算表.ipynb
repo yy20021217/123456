{
  "nbformat": 4,
  "nbformat_minor": 0,
  "metadata": {
    "colab": {
      "provenance": [],
      "authorship_tag": "ABX9TyN+hIcSOQZkO4XYFb1HNNIP",
      "include_colab_link": true
    },
    "kernelspec": {
      "name": "python3",
      "display_name": "Python 3"
    },
    "language_info": {
      "name": "python"
    }
  },
  "cells": [
    {
      "cell_type": "markdown",
      "metadata": {
        "id": "view-in-github",
        "colab_type": "text"
      },
      "source": [
        "<a href=\"https://colab.research.google.com/github/yy20021217/123456/blob/main/EX02_03_Yahoo_%E6%96%B0%E8%81%9E%E5%84%B2%E5%AD%98_Google_%E8%A9%A6%E7%AE%97%E8%A1%A8.ipynb\" target=\"_parent\"><img src=\"https://colab.research.google.com/assets/colab-badge.svg\" alt=\"Open In Colab\"/></a>"
      ]
    },
    {
      "cell_type": "code",
      "execution_count": 3,
      "metadata": {
        "colab": {
          "base_uri": "https://localhost:8080/"
        },
        "id": "BuiyQPruDmeT",
        "outputId": "8df5a7af-5df8-45cb-d255-4120b36f16de"
      },
      "outputs": [
        {
          "output_type": "stream",
          "name": "stdout",
          "text": [
            "Requirement already satisfied: feedparser in /usr/local/lib/python3.11/dist-packages (6.0.11)\n",
            "Requirement already satisfied: sgmllib3k in /usr/local/lib/python3.11/dist-packages (from feedparser) (1.0.0)\n"
          ]
        }
      ],
      "source": [
        "! pip install feedparser\n",
        "\n",
        "import feedparser\n",
        "feed_url = \"https://tw.news.yahoo.com/rss\"\n",
        "feed_data = feedparser.parse(feed_url)\n",
        "\n",
        "from google.colab import auth\n",
        "from google.auth import default\n",
        "import gspread\n",
        "\n",
        "auth.authenticate_user() # 進行授權\n",
        "creds, _ = default() # 使用 default 方法獲取驗證信息\n",
        "gc = gspread.authorize(creds) # 使用 creds 變數授權 gspread 模組\n",
        "\n",
        "\n",
        "# 開啟 Google 試算表\n",
        "url = 'https://docs.google.com/spreadsheets/d/1o3hWqvnE-GTusGSfYp8a3gjwn1kNQLVFKXIkT-D4ebQ/edit?gid=0#gid=0'\n",
        "workbook = gc.open_by_url(url)\n",
        "# 獲取工作簿中索引為 0 的工作表，並將其儲存在 sheet 變數中\n",
        "sheet = workbook.get_worksheet(0)\n",
        "\n",
        "sheet.clear()\n",
        "# 新增一列資料\n",
        "sheet.append_row(['title','summary','link'])\n",
        "for entry in feed_data.entries:\n",
        "    sheet.append_row([entry.title, entry.summary, entry.link])\n"
      ]
    }
  ]
}