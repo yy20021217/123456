{
  "nbformat": 4,
  "nbformat_minor": 0,
  "metadata": {
    "colab": {
      "provenance": [],
      "authorship_tag": "ABX9TyNEBzEDhG497jGoQzlIQzwm",
      "include_colab_link": true
    },
    "kernelspec": {
      "name": "python3",
      "display_name": "Python 3"
    },
    "language_info": {
      "name": "python"
    }
  },
  "cells": [
    {
      "cell_type": "markdown",
      "metadata": {
        "id": "view-in-github",
        "colab_type": "text"
      },
      "source": [
        "<a href=\"https://colab.research.google.com/github/yy20021217/123456/blob/main/EX01_02_BMI_%E8%A8%88%E7%AE%97ipynb.ipynb\" target=\"_parent\"><img src=\"https://colab.research.google.com/assets/colab-badge.svg\" alt=\"Open In Colab\"/></a>"
      ]
    },
    {
      "cell_type": "code",
      "execution_count": 3,
      "metadata": {
        "colab": {
          "base_uri": "https://localhost:8080/"
        },
        "id": "Y1tEueQcLKH0",
        "outputId": "8d4d315e-af15-45a7-b7c9-f6257afaad12"
      },
      "outputs": [
        {
          "output_type": "stream",
          "name": "stdout",
          "text": [
            "height(cm);158\n",
            "weight(kg);46\n",
            "bmi; 18.4\n"
          ]
        }
      ],
      "source": [
        "ht = float( input('height(cm);'))\n",
        "wt = float( input('weight(kg);'))\n",
        "bmi=wt/(ht/100)**2\n",
        "print('bmi;',round(bmi,1))\n",
        "\n",
        "\n",
        "\n"
      ]
    }
  ]
}