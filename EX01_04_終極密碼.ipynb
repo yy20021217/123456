{
  "nbformat": 4,
  "nbformat_minor": 0,
  "metadata": {
    "colab": {
      "provenance": [],
      "authorship_tag": "ABX9TyNhVggros1U0o/bBtD9Zy9z",
      "include_colab_link": true
    },
    "kernelspec": {
      "name": "python3",
      "display_name": "Python 3"
    },
    "language_info": {
      "name": "python"
    }
  },
  "cells": [
    {
      "cell_type": "markdown",
      "metadata": {
        "id": "view-in-github",
        "colab_type": "text"
      },
      "source": [
        "<a href=\"https://colab.research.google.com/github/yy20021217/123456/blob/main/EX01_04_%E7%B5%82%E6%A5%B5%E5%AF%86%E7%A2%BC.ipynb\" target=\"_parent\"><img src=\"https://colab.research.google.com/assets/colab-badge.svg\" alt=\"Open In Colab\"/></a>"
      ]
    },
    {
      "cell_type": "code",
      "execution_count": 3,
      "metadata": {
        "colab": {
          "base_uri": "https://localhost:8080/"
        },
        "id": "Jw0aJR0k5qnC",
        "outputId": "bbeb155d-f475-4170-f77c-36c24363db64"
      },
      "outputs": [
        {
          "output_type": "stream",
          "name": "stdout",
          "text": [
            "0 - 100\n",
            "guess:37\n",
            "37 - 100\n",
            "guess:56\n",
            "37 - 56\n",
            "guess:45\n",
            "45 - 56\n",
            "guess:48\n",
            "48 - 56\n",
            "guess:52\n",
            "52 - 56\n",
            "guess:54\n",
            "猜中\n"
          ]
        }
      ],
      "source": [
        "import random\n",
        "bomb = random.randint(1,99)\n",
        "\n",
        "lf = 0\n",
        "rt = 100\n",
        "\n",
        "while True:\n",
        "  print(lf,'-',rt)\n",
        "  gu = int(input('guess:'))\n",
        "  if gu <= lf or gu >= rt:\n",
        "    print('超過範圍')\n",
        "  elif gu < bomb:\n",
        "    lf = gu\n",
        "  elif gu > bomb:\n",
        "    rt = gu\n",
        "  else:\n",
        "    print('猜中')\n",
        "    break\n",
        "\n"
      ]
    }
  ]
}