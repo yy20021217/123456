{
  "nbformat": 4,
  "nbformat_minor": 0,
  "metadata": {
    "colab": {
      "provenance": [],
      "authorship_tag": "ABX9TyMEiCZhqeCbGA9l44GTvmq5",
      "include_colab_link": true
    },
    "kernelspec": {
      "name": "python3",
      "display_name": "Python 3"
    },
    "language_info": {
      "name": "python"
    }
  },
  "cells": [
    {
      "cell_type": "markdown",
      "metadata": {
        "id": "view-in-github",
        "colab_type": "text"
      },
      "source": [
        "<a href=\"https://colab.research.google.com/github/yy20021217/123456/blob/main/EX02_01_My_Chatbot.ipynb\" target=\"_parent\"><img src=\"https://colab.research.google.com/assets/colab-badge.svg\" alt=\"Open In Colab\"/></a>"
      ]
    },
    {
      "cell_type": "code",
      "execution_count": null,
      "metadata": {
        "colab": {
          "base_uri": "https://localhost:8080/",
          "height": 1000
        },
        "id": "77uSN_Xc5QJq",
        "outputId": "54edb96c-70d3-450f-aae1-596163258395"
      },
      "outputs": [
        {
          "output_type": "stream",
          "name": "stdout",
          "text": [
            "You: hi\n",
            "Bot:\n"
          ]
        },
        {
          "output_type": "display_data",
          "data": {
            "text/plain": [
              "<IPython.core.display.Markdown object>"
            ],
            "text/markdown": "Hi there! How can I help you today?\n"
          },
          "metadata": {}
        },
        {
          "output_type": "stream",
          "name": "stdout",
          "text": [
            "You: how ai works\n",
            "Bot:\n"
          ]
        },
        {
          "output_type": "display_data",
          "data": {
            "text/plain": [
              "<IPython.core.display.Markdown object>"
            ],
            "text/markdown": "Okay, explaining how AI works can be a complex topic, but I'll break it down into simpler terms. Think of it like this: AI is about teaching computers to do things that normally require human intelligence.\n\nHere's a general overview of the key concepts:\n\n**1. Data is Key:**\n\n*   AI learns from data.  The more data, the better the AI can learn. This data can be anything: images, text, numbers, sounds, videos, etc.\n*   The quality of the data is also critical.  \"Garbage in, garbage out\" applies here. If the data is biased or inaccurate, the AI will learn those biases and inaccuracies.\n\n**2. Algorithms: The Learning Recipes**\n\n*   Algorithms are sets of instructions that tell the computer how to process the data and learn from it.  They are the \"recipes\" for AI.\n*   There are many different types of AI algorithms, each suited for different tasks. Some popular ones include:\n\n    *   **Machine Learning (ML):** This is a broad category where algorithms learn from data without being explicitly programmed.\n    *   **Deep Learning (DL):** A subfield of machine learning that uses artificial neural networks with multiple layers to analyze data.  This is particularly effective for complex tasks like image recognition and natural language processing.\n    *   **Rule-Based Systems:** AI that operates based on predefined rules. If X then Y.\n    *   **Natural Language Processing (NLP):** Focused on enabling computers to understand and process human language.\n\n**3. Training the AI:**\n\n*   This is the process of feeding the AI algorithm data and allowing it to learn patterns and relationships.\n*   During training, the algorithm adjusts its internal parameters to improve its accuracy.\n*   Think of it like teaching a child. You show them examples, give them feedback, and they gradually learn to recognize patterns and make correct decisions.\n\n**4. Inference (Using the Trained AI):**\n\n*   Once the AI is trained, it can be used to make predictions or decisions on new, unseen data.\n*   For example, if you've trained an AI to recognize cats in images, you can now feed it new images and it will tell you whether or not there's a cat in the picture.\n\n**Let's look at some examples to illustrate these concepts:**\n\n*   **Spam Filter:**\n    *   **Data:** Emails labeled as \"spam\" or \"not spam.\"\n    *   **Algorithm:** A machine learning algorithm (like a Naive Bayes classifier).\n    *   **Training:** The algorithm learns to identify patterns in spam emails (e.g., certain words, phrases, sender addresses).\n    *   **Inference:** When a new email arrives, the algorithm analyzes it and predicts whether it's spam or not.\n\n*   **Image Recognition (Identifying objects in pictures):**\n    *   **Data:**  A large dataset of images, each labeled with the objects they contain (e.g., \"cat,\" \"dog,\" \"car\").\n    *   **Algorithm:** A deep learning algorithm (like a convolutional neural network - CNN).\n    *   **Training:** The CNN learns to recognize visual features that are associated with each object.\n    *   **Inference:** When a new image is fed into the CNN, it identifies the objects present in the image.\n\n**Different Approaches to AI:**\n\n*   **Supervised Learning:** The AI is trained on labeled data.  This is like giving the AI the \"answers\" during training.  (Example: Spam filter, image recognition)\n*   **Unsupervised Learning:** The AI is trained on unlabeled data.  The AI has to discover patterns and relationships on its own. (Example: Customer segmentation)\n*   **Reinforcement Learning:** The AI learns by trial and error, receiving rewards for good actions and penalties for bad actions. (Example: Training a robot to walk)\n\n**Key Technologies enabling AI:**\n\n*   **Cloud Computing:**  Provides the vast computing resources needed to train and run AI models.\n*   **GPUs (Graphics Processing Units):** Specialized hardware that accelerates the training of deep learning models.\n*   **Big Data Technologies:**  Tools for storing, processing, and analyzing large datasets.\n\n**In summary:** AI is about creating computer systems that can learn from data and perform tasks that typically require human intelligence.  It involves gathering data, choosing the right algorithms, training the AI, and then using it to make predictions or decisions.\n\nThis is a simplified explanation, and the field of AI is constantly evolving. Is there anything specific you'd like to know more about, or any particular type of AI that interests you? For instance, would you like to know more about:\n\n*   Deep Learning?\n*   Natural Language Processing?\n*   Computer Vision?\n*   The ethical considerations of AI?\n*   The limitations of AI?\n"
          },
          "metadata": {}
        }
      ],
      "source": [
        "from google.colab import userdata\n",
        "import google.generativeai as genai\n",
        "\n",
        "genai.configure(api_key=userdata.get('GOOGLE_API_KEY'))\n",
        "\n",
        "generation_config = {\n",
        "    \"temperature\": 1,\n",
        "    \"max_output_tokens\": 1280\n",
        "}\n",
        "\n",
        "model = genai.GenerativeModel(\n",
        "    model_name=\"gemini-2.0-flash\",\n",
        "    generation_config=generation_config\n",
        ")\n",
        "\n",
        "from IPython.display import Markdown, display\n",
        "\n",
        "chat = model.start_chat(history=[])\n",
        "\n",
        "while True:\n",
        "    message = input('You: ')\n",
        "    if message == 'bye!':\n",
        "        break\n",
        "    response = chat.send_message(message)\n",
        "    print('Bot:')\n",
        "    display(Markdown(response.text))\n"
      ]
    }
  ]
}