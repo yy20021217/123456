{
  "nbformat": 4,
  "nbformat_minor": 0,
  "metadata": {
    "colab": {
      "provenance": [],
      "authorship_tag": "ABX9TyNDumPNrfU9xY6Btm+EOUNr",
      "include_colab_link": true
    },
    "kernelspec": {
      "name": "python3",
      "display_name": "Python 3"
    },
    "language_info": {
      "name": "python"
    }
  },
  "cells": [
    {
      "cell_type": "markdown",
      "metadata": {
        "id": "view-in-github",
        "colab_type": "text"
      },
      "source": [
        "<a href=\"https://colab.research.google.com/github/yy20021217/123456/blob/main/EX01_05_Caesar_Cipher_Encode_and_decode.ipynb\" target=\"_parent\"><img src=\"https://colab.research.google.com/assets/colab-badge.svg\" alt=\"Open In Colab\"/></a>"
      ]
    },
    {
      "cell_type": "code",
      "execution_count": 1,
      "metadata": {
        "colab": {
          "base_uri": "https://localhost:8080/"
        },
        "id": "IrnJoe8VI9BT",
        "outputId": "8dbc6eca-bcc2-451b-fbed-0af6477707af"
      },
      "outputs": [
        {
          "output_type": "stream",
          "name": "stdout",
          "text": [
            "a3\n",
            "hi hi hi \n",
            "kl#kl#kl#\n"
          ]
        }
      ],
      "source": [
        "act = input()\n",
        "txt = input()\n",
        "\n",
        "act_type = act[0]\n",
        "key = int(act[1:])\n",
        "ntxt = ''\n",
        "if act_type == 'd':\n",
        "  for c in txt:\n",
        "    nc = ord(c) - key\n",
        "    ntxt = ntxt + chr(nc)\n",
        "\n",
        "else:\n",
        "  for c in txt:\n",
        "    nc = ord(c) + key\n",
        "    ntxt = ntxt + chr(nc)\n",
        "\n",
        "print(ntxt)"
      ]
    }
  ]
}